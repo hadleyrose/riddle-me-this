{
 "cells": [
  {
   "cell_type": "markdown",
   "metadata": {},
   "source": [
    "# Solving [FiveThirtyEight's \"When Will The Arithmetic Anarchists Attack?\"](https://fivethirtyeight.com/features/when-will-the-arithmetic-anarchists-attack/) Riddler Express"
   ]
  },
  {
   "cell_type": "markdown",
   "metadata": {},
   "source": [
    "> **Riddler Express**\n",
    "\n",
    "> From Eric Veneto, mathematical madmen are on the loose:\n",
    "\n",
    "> The year is 2000, and an arithmetical anarchist group has an idea. For the next 100 years, it will vandalize a famous landmark whenever the year (in two-digit form, for example this year is “18”) is the product of the month and date (i.e. month × date = year, in the MM/DD/YY format).\n",
    "\n",
    "> A few questions about the lawless ensuing century: How many attacks will happen between the beginning of 2001 and the end of 2099? What year will see the most vandalism? The least? What will be the longest gap between attacks?"
   ]
  },
  {
   "cell_type": "markdown",
   "metadata": {},
   "source": [
    "## Solution\n",
    "To solve this riddle, I will use Python 3.6 with the datetime module. First, I will assign the **`date`** variable to the first day of the first month of 2001 since the time period of interest is 2001 through 2099. I will then initiate the **`total_attacks`** variable, which will result in the total number of attacks during the time period of interest. I will then initiate the **`attacks_ea_year`** dictionary, which will include the number of attacks each year with each year serving as a key. I will then initiate the **`ea_attack`** list, which will include every datetime.date object meeting the criteria of month x date = two-digit year."
   ]
  },
  {
   "cell_type": "code",
   "execution_count": 1,
   "metadata": {},
   "outputs": [
    {
     "name": "stdout",
     "output_type": "stream",
     "text": [
      "2001-01-01\n"
     ]
    }
   ],
   "source": [
    "import datetime\n",
    "date = datetime.date(2001, 1, 1)\n",
    "total_attacks = 0\n",
    "attacks_ea_year = {}\n",
    "ea_attack = []\n",
    "print(date)"
   ]
  },
  {
   "cell_type": "markdown",
   "metadata": {},
   "source": [
    "To answer the first three questions, I will use a while loop to determine which dates match the criteria, creating a total number of attacks over the given time period as well as a total number of attacks for each year in the given time period."
   ]
  },
  {
   "cell_type": "code",
   "execution_count": 2,
   "metadata": {},
   "outputs": [
    {
     "name": "stdout",
     "output_type": "stream",
     "text": [
      "Total attacks from 2001 through 2099: 212\n",
      "Year with most attacks: 2024 with 7 attacks\n",
      "Year with least attacks: 2001, 2013, 2017, 2019, 2023, 2029, 2031, 2034, 2038, 2039, 2046, 2049, 2051, 2057, 2065, 2068, 2069, 2076, 2085, 2087, 2091, 2092, 2093, 2095, 2098 with 1 attacks\n"
     ]
    }
   ],
   "source": [
    "while date.year < 2100:\n",
    "    if date.month * date.day == int(str(date.year)[2:]):\n",
    "        total_attacks += 1\n",
    "        ea_attack.append(date)\n",
    "        if date.year in attacks_ea_year:\n",
    "            attacks_ea_year[date.year] = attacks_ea_year[date.year] + 1\n",
    "        else:\n",
    "            attacks_ea_year[date.year] = 1\n",
    "    date = date + datetime.timedelta(days=1)\n",
    "max_attacks = max(attacks_ea_year.values())\n",
    "min_attacks = min(attacks_ea_year.values())\n",
    "max_attacks_year = [key for key, value in attacks_ea_year.items() if value == max_attacks]\n",
    "min_attacks_year = [key for key, value in attacks_ea_year.items() if value == min_attacks]\n",
    "print(f\"Total attacks from 2001 through 2099: {total_attacks}\")\n",
    "print(f\"Year with most attacks: {', '.join(str(year) for year in max_attacks_year)} with {max_attacks} attacks\")\n",
    "print(f\"Year with least attacks: {', '.join(str(year) for year in min_attacks_year)} with {min_attacks} attacks\")"
   ]
  },
  {
   "cell_type": "markdown",
   "metadata": {},
   "source": [
    "To answer the last question, I initiated a **`time_gap`** variable--the length of time between two successive dates of attacks--and a **`time_gap_time`** list, which will include the two successive dates of attacks used to create the **`time_gap`** variable. A for loop will locate the maximum length of time between two successive dates of attacks, assign it to **`time_gap`**, and assign the two successive dates to **`time_gap_time`** list."
   ]
  },
  {
   "cell_type": "code",
   "execution_count": 3,
   "metadata": {},
   "outputs": [
    {
     "name": "stdout",
     "output_type": "stream",
     "text": [
      "Longest gap between attacks: 1096 days, 0:00:00\n",
      "[datetime.date(2057, 3, 19), datetime.date(2060, 3, 20)]\n"
     ]
    }
   ],
   "source": [
    "time_gap = datetime.timedelta(0)\n",
    "time_gap_time = []\n",
    "for i, j in zip(ea_attack, ea_attack[1:]): # more pythonic\n",
    "    if (j - i - datetime.timedelta(days=1)) > time_gap: # gap should not include the day of the last attack, so subtract 1 day\n",
    "        time_gap = (j - i - datetime.timedelta(days=1))\n",
    "        time_gap_time = [i, j]\n",
    "print(\"Longest gap between attacks:\", time_gap)\n",
    "print(time_gap_time)"
   ]
  },
  {
   "cell_type": "markdown",
   "metadata": {},
   "source": [
    "## Conclusion\n",
    "Based on the results gathered, there are 212 total attacks from 2001 through 2099, with the most attacks occurring in 2024 and the least attacks occurring in multiple years [see above]. The longest gap between attacks will be ~~1097~~ 1096 days, with an attack occurring on 3/19/2057 and then on 3/20/2060."
   ]
  },
  {
   "cell_type": "markdown",
   "metadata": {},
   "source": [
    "## The correct answer will be released next week! We'll see how I did!\n",
    "\n",
    "# Edit: The correct answer can be found [here](https://fivethirtyeight.com/features/can-you-find-the-perfect-poker-hand-can-you-shut-this-infernal-box/) under the section title *\"Solution to last week's Riddler Express\"*. I got all answers correct excluding the longest gap, which was one day off based on the method of calculation. The above code has been edited to reflect the correct answer for longest gap and to be [more](https://stackoverflow.com/questions/5314241/difference-between-consecutive-elements-in-list) [pythonic](https://www.reddit.com/r/learnpython/comments/8czag5/is_it_ok_to_use_rangelenvar/?ref=share&ref_source=link).\n",
    "\n",
    "> There will be **212** attacks during the century. The year **2024** will see the most vandalism, with seven attacks. Several years will see no vandalism. The longest gap between attacks will be **1,096** days."
   ]
  }
 ],
 "metadata": {
  "kernelspec": {
   "display_name": "Python 3",
   "language": "python",
   "name": "python3"
  },
  "language_info": {
   "codemirror_mode": {
    "name": "ipython",
    "version": 3
   },
   "file_extension": ".py",
   "mimetype": "text/x-python",
   "name": "python",
   "nbconvert_exporter": "python",
   "pygments_lexer": "ipython3",
   "version": "3.6.3"
  }
 },
 "nbformat": 4,
 "nbformat_minor": 2
}
